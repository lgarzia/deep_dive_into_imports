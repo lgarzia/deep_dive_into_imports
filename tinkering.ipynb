{
 "cells": [
  {
   "cell_type": "code",
   "execution_count": 12,
   "metadata": {},
   "outputs": [],
   "source": [
    "def isValidSubsequence(array, sequence):\n",
    "# Write your code here.\n",
    "    index = 0\n",
    "    max_index = len(array)\n",
    "    for i in sequence:\n",
    "        try:\n",
    "            index = array[index:].index(i)\n",
    "            print(index)\n",
    "        except ValueError:\n",
    "            return False\n",
    "    return True"
   ]
  },
  {
   "cell_type": "code",
   "execution_count": 15,
   "metadata": {},
   "outputs": [],
   "source": [
    "array = [5, 1, 22, 25, 6, -1, 8, 10]\n",
    "sequence = [1, 6, -1, 11]"
   ]
  },
  {
   "cell_type": "code",
   "execution_count": 16,
   "metadata": {},
   "outputs": [
    {
     "name": "stdout",
     "output_type": "stream",
     "text": [
      "1\n",
      "3\n",
      "2\n"
     ]
    },
    {
     "data": {
      "text/plain": [
       "False"
      ]
     },
     "execution_count": 16,
     "metadata": {},
     "output_type": "execute_result"
    }
   ],
   "source": [
    "isValidSubsequence(array, sequence)"
   ]
  },
  {
   "cell_type": "code",
   "execution_count": null,
   "metadata": {},
   "outputs": [],
   "source": [
    "realtoughcandy"
   ]
  }
 ],
 "metadata": {
  "interpreter": {
   "hash": "26bbc3747b8828ceba9c8a9dcc0a94c1a327b2ca353f5213b99eaba2635fe3cf"
  },
  "kernelspec": {
   "display_name": "Python 3.10.4 ('env_lux')",
   "language": "python",
   "name": "python3"
  },
  "language_info": {
   "codemirror_mode": {
    "name": "ipython",
    "version": 3
   },
   "file_extension": ".py",
   "mimetype": "text/x-python",
   "name": "python",
   "nbconvert_exporter": "python",
   "pygments_lexer": "ipython3",
   "version": "3.10.4"
  },
  "orig_nbformat": 4
 },
 "nbformat": 4,
 "nbformat_minor": 2
}
